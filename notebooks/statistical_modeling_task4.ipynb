{
 "cells": [
  {
   "cell_type": "markdown",
   "metadata": {},
   "source": [
    "### Statistical Modeling"
   ]
  },
  {
   "cell_type": "code",
   "execution_count": 5,
   "metadata": {},
   "outputs": [],
   "source": [
    "# Import standard python libraries\n",
    "import os,sys\n",
    "\n",
    "# Get the absolute path of the parent directory\n",
    "rpath = os.path.abspath('..')\n",
    "if rpath not in sys.path:\n",
    "    sys.path.insert(0, rpath)\n"
   ]
  },
  {
   "cell_type": "code",
   "execution_count": 7,
   "metadata": {},
   "outputs": [],
   "source": [
    "# Loading modules from the script directory\n",
    "from scripts.statistical_modeling import *"
   ]
  },
  {
   "cell_type": "code",
   "execution_count": 8,
   "metadata": {},
   "outputs": [],
   "source": [
    "# Read the dataset\n",
    "df = pd.read_csv('../data/cleaned_data.csv',index_col=False,low_memory=False)"
   ]
  },
  {
   "cell_type": "code",
   "execution_count": 11,
   "metadata": {},
   "outputs": [],
   "source": [
    "numeric_features = ['SumInsured', 'CalculatedPremiumPerTerm','RegistrationYear','PostalCode'] \n",
    "categorical_features = ['Province', 'CoverType', 'VehicleType', 'make', 'Gender', 'MaritalStatus','PostalCode','Model','CoverCategory','NewVehicle','RegistrationYear','Citizenship' ] "
   ]
  },
  {
   "cell_type": "code",
   "execution_count": 12,
   "metadata": {},
   "outputs": [],
   "source": [
    "# Set up features according to the given columns.\n",
    "selected_features = prepare_features(df, numeric_features, categorical_features)"
   ]
  },
  {
   "cell_type": "code",
   "execution_count": 15,
   "metadata": {},
   "outputs": [],
   "source": [
    "# Preprocess the data\n",
    "X_train, X_test, y_premium_train, y_premium_test, y_claims_train, y_claims_test, preprocessor = preprocess_data(df, selected_features)"
   ]
  },
  {
   "cell_type": "code",
   "execution_count": 17,
   "metadata": {},
   "outputs": [],
   "source": [
    "# Build models\n",
    "models = build_models()"
   ]
  },
  {
   "cell_type": "code",
   "execution_count": 18,
   "metadata": {},
   "outputs": [],
   "source": [
    "# Train and evaluate models for TotalPremium\n",
    "premium_results = train_and_evaluate_models(X_train, X_test, y_premium_train, y_premium_test, preprocessor, models)"
   ]
  },
  {
   "cell_type": "code",
   "execution_count": 19,
   "metadata": {},
   "outputs": [],
   "source": [
    "# Train and evaluate models for TotalClaims\n",
    "claims_results = train_and_evaluate_models(X_train, X_test, y_claims_train, y_claims_test, preprocessor, models)"
   ]
  },
  {
   "cell_type": "code",
   "execution_count": 23,
   "metadata": {},
   "outputs": [
    {
     "name": "stdout",
     "output_type": "stream",
     "text": [
      "Results for TotalPremium prediction:\n",
      "Linear Regression: MSE = 16838.2191, R2 = 0.3897\n",
      "Decision Tree: MSE = 12243.2447, R2 = 0.5562\n",
      "Random Forest: MSE = 8822.0527, R2 = 0.6802\n",
      "XGBoost: MSE = 10755.5932, R2 = 0.6101\n"
     ]
    }
   ],
   "source": [
    "# TotalPremium \n",
    "print(\"Results for TotalPremium prediction:\")\n",
    "for name, result in premium_results.items():\n",
    "    print(f\"{name}: MSE = {result['MSE']:.4f}, R2 = {result['R2']:.4f}\")"
   ]
  },
  {
   "cell_type": "code",
   "execution_count": 24,
   "metadata": {},
   "outputs": [
    {
     "name": "stdout",
     "output_type": "stream",
     "text": [
      "\n",
      "Results for TotalClaims prediction:\n",
      "Linear Regression: MSE = 4869297.8188, R2 = 0.0035\n",
      "Decision Tree: MSE = 6634768.6749, R2 = -0.3578\n",
      "Random Forest: MSE = 5325011.4553, R2 = -0.0898\n",
      "XGBoost: MSE = 5215581.6576, R2 = -0.0674\n"
     ]
    }
   ],
   "source": [
    "# TotalClaims\n",
    "print(\"\\nResults for TotalClaims prediction:\")\n",
    "for name, result in claims_results.items():\n",
    "    print(f\"{name}: MSE = {result['MSE']:.4f}, R2 = {result['R2']:.4f}\")"
   ]
  },
  {
   "cell_type": "code",
   "execution_count": 46,
   "metadata": {},
   "outputs": [
    {
     "name": "stdout",
     "output_type": "stream",
     "text": [
      "RandomForestRegressor(random_state=42)\n",
      "RandomForestRegressor(random_state=42)\n"
     ]
    }
   ],
   "source": [
    "# Evaluate feature significance for the top-performing model\n",
    "best_premium_model = premium_results['Random Forest']['Model'].named_steps['regressor']\n",
    "best_claims_model = claims_results['Random Forest']['Model'].named_steps['regressor']\n",
    "print(best_claims_model)\n",
    "print(best_claims_model)"
   ]
  },
  {
   "cell_type": "code",
   "execution_count": 48,
   "metadata": {},
   "outputs": [],
   "source": [
    "premium_importance = analyze_feature_importance(best_premium_model, X_train)\n",
    "claims_importance = analyze_feature_importance(best_claims_model, X_train)"
   ]
  },
  {
   "cell_type": "code",
   "execution_count": 35,
   "metadata": {},
   "outputs": [
    {
     "name": "stdout",
     "output_type": "stream",
     "text": [
      "\n",
      "Model Performance Comparison:\n",
      "\n",
      "TotalPremium:\n",
      "Linear Regression: R2 = 0.3897\n",
      "Decision Tree: R2 = 0.5562\n",
      "Random Forest: R2 = 0.6802\n",
      "XGBoost: R2 = 0.6101\n",
      "\n",
      "TotalClaims:\n",
      "Linear Regression: R2 = 0.0035\n",
      "Decision Tree: R2 = -0.3578\n",
      "Random Forest: R2 = -0.0898\n",
      "XGBoost: R2 = -0.0674\n"
     ]
    }
   ],
   "source": [
    "# Report comparison between each model performance\n",
    "print(\"\\nModel Performance Comparison:\")\n",
    "print(\"\\nTotalPremium:\")\n",
    "for name, result in premium_results.items():\n",
    "    print(f\"{name}: R2 = {result['R2']:.4f}\")\n",
    "\n",
    "print(\"\\nTotalClaims:\")\n",
    "for name, result in claims_results.items():\n",
    "    print(f\"{name}: R2 = {result['R2']:.4f}\")"
   ]
  },
  {
   "cell_type": "code",
   "execution_count": 50,
   "metadata": {},
   "outputs": [
    {
     "name": "stdout",
     "output_type": "stream",
     "text": [
      "\n",
      "Summary:\n",
      "Based on the R2 scores, the best model for predicting both TotalPremium and TotalClaims.\n",
      "Best model for TotalPremium: Random Forest\n",
      "Best model for TotalClaims: Linear Regression\n",
      "\n",
      "Key features for predicting TotalPremium include:\n",
      "['Province', 'Model', 'NewVehicle', 'make', 'Gender']\n",
      "\n",
      "Key features for predicting TotalClaims include:\n",
      "['Province', 'Model', 'NewVehicle', 'make', 'Gender']\n"
     ]
    }
   ],
   "source": [
    "# Summarize model performance\n",
    "summarize_model_performance()"
   ]
  }
 ],
 "metadata": {
  "kernelspec": {
   "display_name": "Python (myenv_w3)",
   "language": "python",
   "name": "myenv_w3"
  },
  "language_info": {
   "codemirror_mode": {
    "name": "ipython",
    "version": 3
   },
   "file_extension": ".py",
   "mimetype": "text/x-python",
   "name": "python",
   "nbconvert_exporter": "python",
   "pygments_lexer": "ipython3",
   "version": "3.12.3"
  }
 },
 "nbformat": 4,
 "nbformat_minor": 2
}
